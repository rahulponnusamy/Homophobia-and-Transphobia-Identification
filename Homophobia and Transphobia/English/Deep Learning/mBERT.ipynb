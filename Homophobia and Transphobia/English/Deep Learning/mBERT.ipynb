{
  "nbformat": 4,
  "nbformat_minor": 0,
  "metadata": {
    "colab": {
      "name": "mBERT.ipynb",
      "provenance": []
    },
    "kernelspec": {
      "name": "python3",
      "display_name": "Python 3"
    },
    "language_info": {
      "name": "python"
    }
  },
  "cells": [
    {
      "cell_type": "code",
      "execution_count": null,
      "metadata": {
        "id": "TXPSkrnFZjXs"
      },
      "outputs": [],
      "source": [
        "from google.colab import drive\n",
        "drive._mount('/content/drive')"
      ]
    },
    {
      "cell_type": "code",
      "execution_count": null,
      "metadata": {
        "id": "Bff0nhtiSck3"
      },
      "outputs": [],
      "source": [
        "!pip install simpletransformers"
      ]
    },
    {
      "cell_type": "code",
      "source": [
        "import pandas as pd\n",
        "import numpy as np\n",
        "np.set_printoptions(threshold=np.inf)\n",
        "\n",
        "import string\n",
        "from sklearn.preprocessing import LabelEncoder\n",
        "from sklearn.model_selection import train_test_split\n",
        "from sklearn.metrics import classification_report\n",
        "from simpletransformers.classification import ClassificationModel"
      ],
      "metadata": {
        "id": "p9VD-XQUmFIm"
      },
      "execution_count": null,
      "outputs": []
    },
    {
      "cell_type": "markdown",
      "source": [
        "#**English dataset**"
      ],
      "metadata": {
        "id": "2wQ6lJkFmO42"
      }
    },
    {
      "cell_type": "code",
      "execution_count": null,
      "metadata": {
        "id": "SkUclL3ZTNmQ"
      },
      "outputs": [],
      "source": [
        "train = pd.read_csv('/content/drive/MyDrive/Datasets/homo-trans/splited data/mini project II/eng/eng_train.csv')\n",
        "test = pd.read_csv('/content/drive/MyDrive/Datasets/homo-trans/splited data/mini project II/eng/eng_test.csv')"
      ]
    },
    {
      "cell_type": "markdown",
      "source": [
        "#**Removing punctuations**"
      ],
      "metadata": {
        "id": "vPMZRgudmbp1"
      }
    },
    {
      "cell_type": "code",
      "execution_count": null,
      "metadata": {
        "id": "aqXoqDr9Y5SO"
      },
      "outputs": [],
      "source": [
        "def remove_punctuations(txt):\n",
        "    text_nopunc=\"\".join([c for c in txt if c not in string.punctuation])\n",
        "    return text_nopunc\n",
        "\n",
        "train['text']=train['text'].apply(lambda x: remove_punctuations(x))\n",
        "test['text']=test['text'].apply(lambda x: remove_punctuations(x))"
      ]
    },
    {
      "cell_type": "markdown",
      "source": [
        "#**Encoding**"
      ],
      "metadata": {
        "id": "rXn1RFYCmdMX"
      }
    },
    {
      "cell_type": "code",
      "execution_count": null,
      "metadata": {
        "id": "PR69i9lEZ9RZ"
      },
      "outputs": [],
      "source": [
        "Encoder = LabelEncoder()\n",
        "train['category']=Encoder.fit_transform(train['category'])\n",
        "test['category']=Encoder.fit_transform(test['category'])"
      ]
    },
    {
      "cell_type": "markdown",
      "source": [
        "#**mBERT**"
      ],
      "metadata": {
        "id": "N0yr6Hc3mf36"
      }
    },
    {
      "cell_type": "code",
      "execution_count": null,
      "metadata": {
        "id": "-3r3M8m5W7U_"
      },
      "outputs": [],
      "source": [
        "model_args = {\"reprocess_input_data\" : True,\"use_cached_eval_features\":False,  \"overwrite_output_dir\": True, \"num_train_epochs\": 3 }\n",
        "model=ClassificationModel('bert','bert-base-multilingual-cased', num_labels=7, use_cuda=False,args=model_args)"
      ]
    },
    {
      "cell_type": "code",
      "execution_count": null,
      "metadata": {
        "colab": {
          "background_save": true
        },
        "id": "jjARgfFnW9g1"
      },
      "outputs": [],
      "source": [
        "model.train_model(train)"
      ]
    },
    {
      "cell_type": "code",
      "execution_count": null,
      "metadata": {
        "colab": {
          "background_save": true
        },
        "id": "VLZGn7QmYwp0"
      },
      "outputs": [],
      "source": [
        "predictions, raw_outputs = model.predict(test['text'].tolist())\n",
        "print(predictions)\n",
        "f = pd.DataFrame(predictions)\n",
        "f.columns = [\"prediction\"]\n",
        "f.to_csv(\"/content/drive/MyDrive/Datasets/homo-trans/splited data/mini project II/predictions/mbert/eng_mbert_pred.csv\")"
      ]
    }
  ]
}