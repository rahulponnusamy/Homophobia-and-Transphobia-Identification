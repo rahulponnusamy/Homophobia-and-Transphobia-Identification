{
  "nbformat": 4,
  "nbformat_minor": 0,
  "metadata": {
    "colab": {
      "name": "fastText with ML.ipynb",
      "provenance": []
    },
    "kernelspec": {
      "name": "python3",
      "display_name": "Python 3"
    },
    "language_info": {
      "name": "python"
    }
  },
  "cells": [
    {
      "cell_type": "code",
      "execution_count": null,
      "metadata": {
        "id": "rGNmCp9lgPCP"
      },
      "outputs": [],
      "source": [
        "from google.colab import drive\n",
        "drive._mount('/content/drive')"
      ]
    },
    {
      "cell_type": "code",
      "source": [
        "!pip install sentence-transformers"
      ],
      "metadata": {
        "id": "6CV5ik5Dgi_C"
      },
      "execution_count": null,
      "outputs": []
    },
    {
      "cell_type": "code",
      "source": [
        "!pip install fasttext"
      ],
      "metadata": {
        "id": "mOjRqaYBkl-7"
      },
      "execution_count": null,
      "outputs": []
    },
    {
      "cell_type": "markdown",
      "source": [
        "#**Importing packages**"
      ],
      "metadata": {
        "id": "RXbbLL7Nuo0M"
      }
    },
    {
      "cell_type": "code",
      "source": [
        "import pandas as pd\n",
        "import numpy as np\n",
        "import string\n",
        "import fasttext\n",
        "import fasttext.util\n",
        "from sklearn.preprocessing import LabelEncoder\n",
        "from sklearn.svm import SVC\n",
        "from sklearn import model_selection, naive_bayes\n",
        "from sklearn.naive_bayes import MultinomialNB, BernoulliNB\n",
        "from sklearn.linear_model import LogisticRegression \n",
        "from sklearn.ensemble import RandomForestClassifier\n",
        "from sklearn.preprocessing import StandardScaler\n",
        "from numpy import loadtxt\n",
        "from xgboost import XGBClassifier\n",
        "from sklearn.tree import DecisionTreeClassifier\n",
        "from sentence_transformers import SentenceTransformer\n",
        "from sklearn.metrics import classification_report,confusion_matrix\n",
        "from sklearn.metrics import classification_report,confusion_matrix"
      ],
      "metadata": {
        "id": "DOao7X0gglu5"
      },
      "execution_count": null,
      "outputs": []
    },
    {
      "cell_type": "markdown",
      "source": [
        "#**English dataset**"
      ],
      "metadata": {
        "id": "pQw_h4Uptmqo"
      }
    },
    {
      "cell_type": "code",
      "source": [
        "train = pd.read_csv('/content/drive/MyDrive/Datasets/homo-trans/splited data/mini project II/eng/eng_train.csv')\n",
        "test = pd.read_csv('/content/drive/MyDrive/Datasets/homo-trans/splited data/mini project II/eng/eng_test.csv')"
      ],
      "metadata": {
        "id": "3SZgePKJgqjM"
      },
      "execution_count": null,
      "outputs": []
    },
    {
      "cell_type": "code",
      "source": [
        "train.value_counts('category')"
      ],
      "metadata": {
        "id": "pWL57xKbmFTL"
      },
      "execution_count": null,
      "outputs": []
    },
    {
      "cell_type": "code",
      "source": [
        "test.value_counts('category')"
      ],
      "metadata": {
        "id": "XWF2gOigmNmN"
      },
      "execution_count": null,
      "outputs": []
    },
    {
      "cell_type": "markdown",
      "source": [
        "#**Removing punctuations**"
      ],
      "metadata": {
        "id": "K7CJR3eKuLc3"
      }
    },
    {
      "cell_type": "code",
      "source": [
        "def remove_punctuations(txt):\n",
        "    text_nopunc=\"\".join([c for c in txt if c not in string.punctuation])\n",
        "    return text_nopunc\n",
        "\n",
        "train['text']=train['text'].apply(lambda x: remove_punctuations(x))\n",
        "test['text']=test['text'].apply(lambda x: remove_punctuations(x))"
      ],
      "metadata": {
        "id": "RtHPyjmSg1Vr"
      },
      "execution_count": null,
      "outputs": []
    },
    {
      "cell_type": "markdown",
      "source": [
        "#**Encoding**"
      ],
      "metadata": {
        "id": "vMer1tqTuLc4"
      }
    },
    {
      "cell_type": "code",
      "source": [
        "Encoder = LabelEncoder()\n",
        "train['category']=Encoder.fit_transform(train['category'])\n",
        "test['category']=Encoder.fit_transform(test['category'])"
      ],
      "metadata": {
        "id": "x38_LtGog3LK"
      },
      "execution_count": null,
      "outputs": []
    },
    {
      "cell_type": "markdown",
      "source": [
        "#**fastText**"
      ],
      "metadata": {
        "id": "8aMBX_8OjPCE"
      }
    },
    {
      "cell_type": "code",
      "source": [
        "fasttext.util.download_model('en', if_exists='ignore')  # english\n",
        "T_ft = fasttext.load_model('cc.en.300.bin')\n",
        "\n",
        "T_ft.get_dimension()\n",
        "fasttext.util.reduce_model(T_ft, 100)"
      ],
      "metadata": {
        "colab": {
          "base_uri": "https://localhost:8080/"
        },
        "id": "zRRpblp2pIsb",
        "outputId": "fa9edd46-6dc0-41c4-d701-cf302615e0dd"
      },
      "execution_count": null,
      "outputs": [
        {
          "output_type": "stream",
          "name": "stderr",
          "text": [
            "Warning : `load_model` does not return WordVectorModel or SupervisedModel any more, but a `FastText` object which is very similar.\n"
          ]
        },
        {
          "output_type": "execute_result",
          "data": {
            "text/plain": [
              "<fasttext.FastText._FastText at 0x7fe499016ed0>"
            ]
          },
          "metadata": {},
          "execution_count": 90
        }
      ]
    },
    {
      "cell_type": "code",
      "source": [
        "f_train = [T_ft.get_word_vector(words)for words in X_train]\n",
        "f_test = [T_ft.get_word_vector(words)for words in X_test]"
      ],
      "metadata": {
        "id": "mSSMHsceT6cn"
      },
      "execution_count": null,
      "outputs": []
    },
    {
      "cell_type": "markdown",
      "source": [
        "#**Naive Bayes**"
      ],
      "metadata": {
        "id": "mGR8vGynhOO8"
      }
    },
    {
      "cell_type": "code",
      "source": [
        "naive_bayes = BernoulliNB()\n",
        "# naive_bayes = MultinomialNB()\n",
        "naive_bayes.fit(f_train, y_train)\n",
        "NB_pred = naive_bayes.predict(f_test)"
      ],
      "metadata": {
        "id": "RSYaws-6Q10y"
      },
      "execution_count": null,
      "outputs": []
    },
    {
      "cell_type": "code",
      "source": [
        "print(confusion_matrix(y_test, NB_pred)) \n",
        "print(classification_report(y_test,NB_pred))"
      ],
      "metadata": {
        "id": "twpu1FZ3jtxn"
      },
      "execution_count": null,
      "outputs": []
    },
    {
      "cell_type": "markdown",
      "source": [
        "#**Support Vector Machine**"
      ],
      "metadata": {
        "id": "WGrbyGPIhWun"
      }
    },
    {
      "cell_type": "code",
      "source": [
        "# normal SVM\n",
        "SVM = SVC(C=10, kernel = 'linear', degree = 3, class_weight='balanced'   , gamma = 'auto')\n",
        "X_Train_svm = SVM.fit(f_train, y_train)\n",
        "\n",
        "y_pred_svm = SVM.predict(f_test)"
      ],
      "metadata": {
        "id": "Ej9lGFYHRFKw"
      },
      "execution_count": null,
      "outputs": []
    },
    {
      "cell_type": "code",
      "source": [
        "print(confusion_matrix(y_test,y_pred_svm)) \n",
        "print(classification_report(y_test, y_pred_svm))"
      ],
      "metadata": {
        "id": "d-x6f91FjzFp"
      },
      "execution_count": null,
      "outputs": []
    },
    {
      "cell_type": "markdown",
      "source": [
        "#**Logistic Regression**"
      ],
      "metadata": {
        "id": "bX7ONalrhc0I"
      }
    },
    {
      "cell_type": "code",
      "source": [
        "# fit the training dataset on the LR classifier\n",
        "lr = LogisticRegression(C=2,class_weight = 'balanced',max_iter=1000)\n",
        "lr.fit(f_train,y_train)\n",
        "\n",
        "# predict the dev dataset\n",
        "pred_LR = lr.predict(f_test)"
      ],
      "metadata": {
        "id": "s9D8byJYQyXQ"
      },
      "execution_count": null,
      "outputs": []
    },
    {
      "cell_type": "code",
      "source": [
        "print(confusion_matrix(y_test,pred_LR)) \n",
        "print(classification_report(y_test,pred_LR))"
      ],
      "metadata": {
        "id": "XKLfBY6Gj5TV"
      },
      "execution_count": null,
      "outputs": []
    },
    {
      "cell_type": "markdown",
      "source": [
        "#**Random Forest**"
      ],
      "metadata": {
        "id": "5Lb5i6LAhi9t"
      }
    },
    {
      "cell_type": "code",
      "source": [
        "sc_X = StandardScaler(with_mean=False)\n",
        "X_Train_RF = sc_X.fit_transform(f_train)\n",
        "test_RF = sc_X.transform(f_test)\n",
        "classifier = RandomForestClassifier(n_estimators=10, class_weight='balanced')\n",
        "classifier.fit(X_Train_RF, y_train)\n",
        "Y_Pred = classifier.predict(test_RF)"
      ],
      "metadata": {
        "id": "uCNP8K2cQ7Lk"
      },
      "execution_count": null,
      "outputs": []
    },
    {
      "cell_type": "code",
      "source": [
        "print(confusion_matrix(y_test,Y_Pred)) \n",
        "print(classification_report(y_test,Y_Pred))"
      ],
      "metadata": {
        "id": "7ZESa8RXkEf9"
      },
      "execution_count": null,
      "outputs": []
    },
    {
      "cell_type": "markdown",
      "source": [
        "#**Decision Tree**"
      ],
      "metadata": {
        "id": "ZAYZcwIkhoBo"
      }
    },
    {
      "cell_type": "code",
      "source": [
        "clf = DecisionTreeClassifier(criterion='entropy', max_depth=5, random_state=0)\n",
        "clf = clf.fit(f_train, y_train)\n",
        "y_Pred = clf.predict(f_test)"
      ],
      "metadata": {
        "id": "Max2FQ9fRBNy"
      },
      "execution_count": null,
      "outputs": []
    },
    {
      "cell_type": "code",
      "source": [
        "print(confusion_matrix(y_test,y_Pred)) \n",
        "print(classification_report(y_test,y_Pred))"
      ],
      "metadata": {
        "id": "CPAbf8HCkO7L"
      },
      "execution_count": null,
      "outputs": []
    },
    {
      "cell_type": "markdown",
      "source": [
        "#**XGBoost**"
      ],
      "metadata": {
        "id": "13iROIVphqiY"
      }
    },
    {
      "cell_type": "code",
      "source": [
        "xgboost = XGBClassifier()\n",
        "xgboost.fit(np.array(f_train), y_train)\n",
        "pred_xg = xgboost.predict(f_test)"
      ],
      "metadata": {
        "id": "Vo2jcAMIQ4b-"
      },
      "execution_count": null,
      "outputs": []
    },
    {
      "cell_type": "code",
      "source": [
        "print(confusion_matrix(y_test, pred_xg)) \n",
        "print(classification_report(y_test,pred_xg))"
      ],
      "metadata": {
        "id": "v7UA92ERj9ar"
      },
      "execution_count": null,
      "outputs": []
    }
  ]
}