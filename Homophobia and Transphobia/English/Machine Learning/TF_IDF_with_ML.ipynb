{
  "nbformat": 4,
  "nbformat_minor": 0,
  "metadata": {
    "colab": {
      "name": "TF-IDF with ML.ipynb",
      "provenance": []
    },
    "kernelspec": {
      "name": "python3",
      "display_name": "Python 3"
    },
    "language_info": {
      "name": "python"
    }
  },
  "cells": [
    {
      "cell_type": "code",
      "execution_count": null,
      "metadata": {
        "id": "rGNmCp9lgPCP"
      },
      "outputs": [],
      "source": [
        "from google.colab import drive\n",
        "drive._mount('/content/drive')"
      ]
    },
    {
      "cell_type": "code",
      "source": [
        "!pip install sentence-transformers"
      ],
      "metadata": {
        "id": "6CV5ik5Dgi_C"
      },
      "execution_count": null,
      "outputs": []
    },
    {
      "cell_type": "markdown",
      "source": [
        "#**Importing Packages**"
      ],
      "metadata": {
        "id": "GCcr43dApqOt"
      }
    },
    {
      "cell_type": "code",
      "source": [
        "import pandas as pd\n",
        "import numpy as np\n",
        "import string\n",
        "from sklearn.preprocessing import LabelEncoder\n",
        "from sklearn.svm import SVC\n",
        "from sklearn import model_selection, naive_bayes\n",
        "from sklearn.naive_bayes import MultinomialNB, BernoulliNB\n",
        "from sklearn.linear_model import LogisticRegression \n",
        "from sklearn.ensemble import RandomForestClassifier\n",
        "from sklearn.preprocessing import StandardScaler\n",
        "from numpy import loadtxt\n",
        "from xgboost import XGBClassifier\n",
        "from sklearn.tree import DecisionTreeClassifier\n",
        "from sentence_transformers import SentenceTransformer\n",
        "from sklearn.metrics import classification_report,confusion_matrix\n",
        "from sklearn.metrics import classification_report,confusion_matrix"
      ],
      "metadata": {
        "id": "DOao7X0gglu5"
      },
      "execution_count": null,
      "outputs": []
    },
    {
      "cell_type": "markdown",
      "source": [
        "#**English dataset**"
      ],
      "metadata": {
        "id": "cf_jzs0dhEil"
      }
    },
    {
      "cell_type": "code",
      "source": [
        "train = pd.read_csv('/content/drive/MyDrive/Datasets/homo-trans/splited data/mini project II/eng/eng_train.csv')\n",
        "test = pd.read_csv('/content/drive/MyDrive/Datasets/homo-trans/splited data/mini project II/eng/eng_test.csv')"
      ],
      "metadata": {
        "id": "3SZgePKJgqjM"
      },
      "execution_count": null,
      "outputs": []
    },
    {
      "cell_type": "code",
      "source": [
        "train.value_counts('category')"
      ],
      "metadata": {
        "id": "qtC_lejcsc07"
      },
      "execution_count": null,
      "outputs": []
    },
    {
      "cell_type": "code",
      "source": [
        "test.value_counts('category')"
      ],
      "metadata": {
        "id": "XWF2gOigmNmN"
      },
      "execution_count": null,
      "outputs": []
    },
    {
      "cell_type": "markdown",
      "source": [
        "#**Removing punctuations**"
      ],
      "metadata": {
        "id": "_imE9mXThCRl"
      }
    },
    {
      "cell_type": "code",
      "source": [
        "def remove_punctuations(txt):\n",
        "    text_nopunc=\"\".join([c for c in txt if c not in string.punctuation])\n",
        "    return text_nopunc\n",
        "\n",
        "train['text']=train['text'].apply(lambda x: remove_punctuations(x))\n",
        "test['text']=test['text'].apply(lambda x: remove_punctuations(x))"
      ],
      "metadata": {
        "id": "RtHPyjmSg1Vr"
      },
      "execution_count": null,
      "outputs": []
    },
    {
      "cell_type": "markdown",
      "source": [
        "#**Encoding**"
      ],
      "metadata": {
        "id": "REvafgRJhAOU"
      }
    },
    {
      "cell_type": "code",
      "source": [
        "Encoder = LabelEncoder()\n",
        "train['category']=Encoder.fit_transform(train['category'])\n",
        "test['category']=Encoder.fit_transform(test['category'])"
      ],
      "metadata": {
        "id": "x38_LtGog3LK"
      },
      "execution_count": null,
      "outputs": []
    },
    {
      "cell_type": "markdown",
      "source": [
        "#**TF-IDF**"
      ],
      "metadata": {
        "id": "nwDslL9Bg8ZF"
      }
    },
    {
      "cell_type": "code",
      "source": [
        "Tfidf = TfidfVectorizer(max_features=15000)\n",
        "train_tfidf = Tfidf.fit_transform(train['text']).toarray()\n",
        "test_tfidf = Tfidf.transform(test['text']).toarray()"
      ],
      "metadata": {
        "id": "E7UuUFUeg6UU"
      },
      "execution_count": null,
      "outputs": []
    },
    {
      "cell_type": "code",
      "source": [
        "X_train = train_tfidf\n",
        "Y_train = train['category']\n",
        "X_test = test_tfidf\n",
        "Y_test = test['category']"
      ],
      "metadata": {
        "id": "Jny1L82zg7vN"
      },
      "execution_count": null,
      "outputs": []
    },
    {
      "cell_type": "markdown",
      "source": [
        "#**Naive Bayes**"
      ],
      "metadata": {
        "id": "mGR8vGynhOO8"
      }
    },
    {
      "cell_type": "code",
      "source": [
        "Naive = naive_bayes.MultinomialNB()\n",
        "Naive.fit(X_train,Y_train)\n",
        "pred_NB = Naive.predict(X_test)"
      ],
      "metadata": {
        "id": "iPih37R8hPb9"
      },
      "execution_count": null,
      "outputs": []
    },
    {
      "cell_type": "code",
      "source": [
        "print(confusion_matrix(Y_test,pred_NB)) \n",
        "print(classification_report(Y_test,pred_NB))"
      ],
      "metadata": {
        "id": "Dzu_8mfUhS_j"
      },
      "execution_count": null,
      "outputs": []
    },
    {
      "cell_type": "markdown",
      "source": [
        "#**Support Vector Machine**"
      ],
      "metadata": {
        "id": "WGrbyGPIhWun"
      }
    },
    {
      "cell_type": "code",
      "source": [
        "SVM = SVC(C=1.0, kernel = 'linear', degree = 3, gamma = 'auto')\n",
        "SVM.fit(X_train, Y_train)\n",
        "pred_svm = SVM.predict(X_test)"
      ],
      "metadata": {
        "id": "IvH_kPl-hVD1"
      },
      "execution_count": null,
      "outputs": []
    },
    {
      "cell_type": "code",
      "source": [
        "#Evluating SVM Model\n",
        "\n",
        "print(confusion_matrix(Y_test, pred_svm)) \n",
        "print(classification_report(Y_test, pred_svm))"
      ],
      "metadata": {
        "id": "avPszC9bhWRY"
      },
      "execution_count": null,
      "outputs": []
    },
    {
      "cell_type": "markdown",
      "source": [
        "#**Logistic Regression**"
      ],
      "metadata": {
        "id": "bX7ONalrhc0I"
      }
    },
    {
      "cell_type": "code",
      "source": [
        "lr = LogisticRegression(C=11,class_weight = 'balanced')\n",
        "lr.fit(X_train,Y_train)\n",
        "pred_LR = lr.predict(X_test)"
      ],
      "metadata": {
        "id": "H8qI4QJjhd5O"
      },
      "execution_count": null,
      "outputs": []
    },
    {
      "cell_type": "code",
      "source": [
        "print(confusion_matrix(Y_test,pred_LR)) \n",
        "print(classification_report(Y_test,pred_LR))"
      ],
      "metadata": {
        "id": "WZBc_41Khf-8"
      },
      "execution_count": null,
      "outputs": []
    },
    {
      "cell_type": "markdown",
      "source": [
        "#**Random Forest**"
      ],
      "metadata": {
        "id": "5Lb5i6LAhi9t"
      }
    },
    {
      "cell_type": "code",
      "source": [
        "# Random Forest\n",
        "sc_X = StandardScaler(with_mean=False)\n",
        "X_Train_RF = sc_X.fit_transform(X_train)\n",
        "X_test_RF = sc_X.transform(X_test)\n",
        "#Classifier\n",
        "classifier = RandomForestClassifier(n_estimators = 100, criterion = 'entropy', random_state = 0)\n",
        "classifier.fit(X_Train_RF,Y_train)\n",
        "pred_RF = classifier.predict(X_test_RF)"
      ],
      "metadata": {
        "id": "ZOMCnvORhhZ_"
      },
      "execution_count": null,
      "outputs": []
    },
    {
      "cell_type": "code",
      "source": [
        "print(confusion_matrix(Y_test,pred_RF)) \n",
        "print(classification_report(Y_test,pred_RF))"
      ],
      "metadata": {
        "id": "jvR-Lg1uhiY1"
      },
      "execution_count": null,
      "outputs": []
    },
    {
      "cell_type": "markdown",
      "source": [
        "#**Decision Tree**"
      ],
      "metadata": {
        "id": "ZAYZcwIkhoBo"
      }
    },
    {
      "cell_type": "code",
      "source": [
        "clf = DecisionTreeClassifier(criterion='entropy', max_depth=5, random_state=0)\n",
        "clf = clf.fit(X_train, Y_train)\n",
        "Pred_DT = clf.predict(X_test)"
      ],
      "metadata": {
        "id": "URu3aGPEhmrJ"
      },
      "execution_count": null,
      "outputs": []
    },
    {
      "cell_type": "code",
      "source": [
        "# Evaluation DT\n",
        "print(confusion_matrix(Y_test,Pred_DT)) \n",
        "print(classification_report(Y_test,Pred_DT))"
      ],
      "metadata": {
        "id": "-3xEsJH9hnqk"
      },
      "execution_count": null,
      "outputs": []
    },
    {
      "cell_type": "markdown",
      "source": [
        "#**XGBoost**"
      ],
      "metadata": {
        "id": "13iROIVphqiY"
      }
    },
    {
      "cell_type": "code",
      "source": [
        "classifier = XGBClassifier()\n",
        "classifier.fit(X_train , np.ravel(Y_train))\n",
        "pred_XG = classifier.predict(X_test)"
      ],
      "metadata": {
        "id": "nqqAK01uhq4i"
      },
      "execution_count": null,
      "outputs": []
    },
    {
      "cell_type": "code",
      "source": [
        "print(confusion_matrix(Y_test, pred_XG)) \n",
        "print(classification_report(Y_test, pred_XG))"
      ],
      "metadata": {
        "id": "CGw_y8vkhr6_"
      },
      "execution_count": null,
      "outputs": []
    }
  ]
}