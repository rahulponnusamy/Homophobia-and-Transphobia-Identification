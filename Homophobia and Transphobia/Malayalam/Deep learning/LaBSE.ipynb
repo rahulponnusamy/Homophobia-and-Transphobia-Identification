{
  "nbformat": 4,
  "nbformat_minor": 0,
  "metadata": {
    "colab": {
      "name": "LaBSE.ipynb",
      "provenance": []
    },
    "kernelspec": {
      "name": "python3",
      "display_name": "Python 3"
    },
    "language_info": {
      "name": "python"
    }
  },
  "cells": [
    {
      "cell_type": "code",
      "execution_count": null,
      "metadata": {
        "colab": {
          "base_uri": "https://localhost:8080/"
        },
        "id": "TXPSkrnFZjXs",
        "outputId": "bda1afd9-2a4e-4726-c104-61af00690472"
      },
      "outputs": [
        {
          "output_type": "stream",
          "name": "stdout",
          "text": [
            "Mounted at /content/drive\n"
          ]
        }
      ],
      "source": [
        "from google.colab import drive\n",
        "drive._mount('/content/drive')"
      ]
    },
    {
      "cell_type": "code",
      "execution_count": null,
      "metadata": {
        "id": "Bff0nhtiSck3"
      },
      "outputs": [],
      "source": [
        "!pip install simpletransformers"
      ]
    },
    {
      "cell_type": "markdown",
      "source": [
        "#**Importing Packages**"
      ],
      "metadata": {
        "id": "iytwNNApnC7M"
      }
    },
    {
      "cell_type": "code",
      "execution_count": null,
      "metadata": {
        "id": "Yk54i70fVLJl"
      },
      "outputs": [],
      "source": [
        "import pandas as pd\n",
        "import numpy as np\n",
        "np.set_printoptions(threshold=np.inf)\n",
        "\n",
        "import string\n",
        "from sklearn.preprocessing import LabelEncoder\n",
        "from sklearn.model_selection import train_test_split\n",
        "from sklearn.metrics import classification_report\n",
        "from simpletransformers.classification import ClassificationModel"
      ]
    },
    {
      "cell_type": "markdown",
      "source": [
        "#**Malayalam dataset** "
      ],
      "metadata": {
        "id": "TUMcPYORnNXs"
      }
    },
    {
      "cell_type": "code",
      "execution_count": null,
      "metadata": {
        "id": "ogwVZsVNTQYZ"
      },
      "outputs": [],
      "source": [
        "train = pd.read_csv('/content/drive/MyDrive/Datasets/homo-trans/splited data/mini project II/mal/mal_train.csv')\n",
        "test = pd.read_csv('/content/drive/MyDrive/Datasets/homo-trans/splited data/mini project II/mal/mal_test.csv')"
      ]
    },
    {
      "cell_type": "markdown",
      "source": [
        "#**Removing punctuations**\n",
        "\n"
      ],
      "metadata": {
        "id": "OQaYrPKPnHk3"
      }
    },
    {
      "cell_type": "code",
      "execution_count": null,
      "metadata": {
        "id": "aqXoqDr9Y5SO"
      },
      "outputs": [],
      "source": [
        "def remove_punctuations(txt):English dataset\n",
        "    text_nopunc=\"\".join([c for c in txt if c not in string.punctuation])\n",
        "    return text_nopunc\n",
        "\n",
        "train['text']=train['text'].apply(lambda x: remove_punctuations(x))\n",
        "test['text']=test['text'].apply(lambda x: remove_punctuations(x))\n"
      ]
    },
    {
      "cell_type": "markdown",
      "source": [
        "#**Encoding**"
      ],
      "metadata": {
        "id": "Too8M_WGnS5f"
      }
    },
    {
      "cell_type": "code",
      "execution_count": null,
      "metadata": {
        "id": "PR69i9lEZ9RZ"
      },
      "outputs": [],
      "source": [
        "Encoder = LabelEncoder()\n",
        "train['category']=Encoder.fit_transform(train['category'])\n",
        "test['category']=Encoder.fit_transform(test['category'])"
      ]
    },
    {
      "cell_type": "markdown",
      "source": [
        "#**LaBSE model**\n"
      ],
      "metadata": {
        "id": "3n67Qsrzm2eW"
      }
    },
    {
      "cell_type": "code",
      "execution_count": null,
      "metadata": {
        "id": "SJ7X8u1VA5Na"
      },
      "outputs": [],
      "source": [
        "model_args = {\"reprocess_input_data\" : True,\"use_cached_eval_features\":False,  \"overwrite_output_dir\": True, \"num_train_epochs\": 3 }\n",
        "model=ClassificationModel('bert','setu4993/LaBSE', num_labels=7, use_cuda=False, args=model_args)"
      ]
    },
    {
      "cell_type": "code",
      "execution_count": null,
      "metadata": {
        "id": "CUlijiA6A64C"
      },
      "outputs": [],
      "source": [
        "model.train_model(train)"
      ]
    },
    {
      "cell_type": "code",
      "execution_count": null,
      "metadata": {
        "id": "_pCAa4UKA9rI"
      },
      "outputs": [],
      "source": [
        "predictions, raw_outputs = model.predict(test['text'].tolist())\n",
        "print(predictions)\n",
        "\n",
        "f = pd.DataFrame(predictions)\n",
        "f.columns = [\"prediction\"]\n",
        "f.to_csv(\"/content/drive/MyDrive/Datasets/homo-trans/splited data/mini project II/predictions/labse/mal_labse_pred.csv\")"
      ]
    }
  ]
}